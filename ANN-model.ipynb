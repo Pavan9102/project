{
 "cells": [
  {
   "cell_type": "code",
   "execution_count": 141,
   "id": "0af0b201",
   "metadata": {
    "papermill": {
     "duration": 2.910754,
     "end_time": "2022-05-26T09:08:55.789154",
     "exception": false,
     "start_time": "2022-05-26T09:08:52.878400",
     "status": "completed"
    },
    "tags": []
   },
   "outputs": [],
   "source": [
    "import pandas as pd\n",
    "import os\n",
    "import librosa"
   ]
  },
  {
   "cell_type": "code",
   "execution_count": 4,
   "id": "edb932ce",
   "metadata": {
    "tags": []
   },
   "outputs": [
    {
     "name": "stdout",
     "output_type": "stream",
     "text": [
      "Requirement already satisfied: librosa in c:\\users\\pavan\\anaconda3\\lib\\site-packages (0.10.1)\n",
      "Requirement already satisfied: audioread>=2.1.9 in c:\\users\\pavan\\anaconda3\\lib\\site-packages (from librosa) (3.0.1)\n",
      "Requirement already satisfied: numpy!=1.22.0,!=1.22.1,!=1.22.2,>=1.20.3 in c:\\users\\pavan\\anaconda3\\lib\\site-packages (from librosa) (1.26.4)\n",
      "Requirement already satisfied: scipy>=1.2.0 in c:\\users\\pavan\\anaconda3\\lib\\site-packages (from librosa) (1.11.4)\n",
      "Requirement already satisfied: scikit-learn>=0.20.0 in c:\\users\\pavan\\anaconda3\\lib\\site-packages (from librosa) (1.4.1.post1)\n",
      "Requirement already satisfied: joblib>=0.14 in c:\\users\\pavan\\anaconda3\\lib\\site-packages (from librosa) (1.2.0)\n",
      "Requirement already satisfied: decorator>=4.3.0 in c:\\users\\pavan\\anaconda3\\lib\\site-packages (from librosa) (5.1.1)\n",
      "Requirement already satisfied: numba>=0.51.0 in c:\\users\\pavan\\anaconda3\\lib\\site-packages (from librosa) (0.59.0)\n",
      "Requirement already satisfied: soundfile>=0.12.1 in c:\\users\\pavan\\anaconda3\\lib\\site-packages (from librosa) (0.12.1)\n",
      "Requirement already satisfied: pooch>=1.0 in c:\\users\\pavan\\anaconda3\\lib\\site-packages (from librosa) (1.8.1)\n",
      "Requirement already satisfied: soxr>=0.3.2 in c:\\users\\pavan\\anaconda3\\lib\\site-packages (from librosa) (0.3.7)\n",
      "Requirement already satisfied: typing-extensions>=4.1.1 in c:\\users\\pavan\\anaconda3\\lib\\site-packages (from librosa) (4.9.0)\n",
      "Requirement already satisfied: lazy-loader>=0.1 in c:\\users\\pavan\\anaconda3\\lib\\site-packages (from librosa) (0.3)\n",
      "Requirement already satisfied: msgpack>=1.0 in c:\\users\\pavan\\anaconda3\\lib\\site-packages (from librosa) (1.0.3)\n",
      "Requirement already satisfied: llvmlite<0.43,>=0.42.0dev0 in c:\\users\\pavan\\anaconda3\\lib\\site-packages (from numba>=0.51.0->librosa) (0.42.0)\n",
      "Requirement already satisfied: platformdirs>=2.5.0 in c:\\users\\pavan\\anaconda3\\lib\\site-packages (from pooch>=1.0->librosa) (3.10.0)\n",
      "Requirement already satisfied: packaging>=20.0 in c:\\users\\pavan\\anaconda3\\lib\\site-packages (from pooch>=1.0->librosa) (23.1)\n",
      "Requirement already satisfied: requests>=2.19.0 in c:\\users\\pavan\\anaconda3\\lib\\site-packages (from pooch>=1.0->librosa) (2.31.0)\n",
      "Requirement already satisfied: threadpoolctl>=2.0.0 in c:\\users\\pavan\\anaconda3\\lib\\site-packages (from scikit-learn>=0.20.0->librosa) (2.2.0)\n",
      "Requirement already satisfied: cffi>=1.0 in c:\\users\\pavan\\anaconda3\\lib\\site-packages (from soundfile>=0.12.1->librosa) (1.16.0)\n",
      "Requirement already satisfied: pycparser in c:\\users\\pavan\\anaconda3\\lib\\site-packages (from cffi>=1.0->soundfile>=0.12.1->librosa) (2.21)\n",
      "Requirement already satisfied: charset-normalizer<4,>=2 in c:\\users\\pavan\\anaconda3\\lib\\site-packages (from requests>=2.19.0->pooch>=1.0->librosa) (2.0.4)\n",
      "Requirement already satisfied: idna<4,>=2.5 in c:\\users\\pavan\\anaconda3\\lib\\site-packages (from requests>=2.19.0->pooch>=1.0->librosa) (3.4)\n",
      "Requirement already satisfied: urllib3<3,>=1.21.1 in c:\\users\\pavan\\anaconda3\\lib\\site-packages (from requests>=2.19.0->pooch>=1.0->librosa) (2.0.7)\n",
      "Requirement already satisfied: certifi>=2017.4.17 in c:\\users\\pavan\\anaconda3\\lib\\site-packages (from requests>=2.19.0->pooch>=1.0->librosa) (2024.2.2)\n",
      "Note: you may need to restart the kernel to use updated packages.\n"
     ]
    }
   ],
   "source": [
    "pip install librosa"
   ]
  },
  {
   "cell_type": "code",
   "execution_count": 111,
   "id": "bcbb9a99-2bec-4f3c-88f2-5d81aa367f49",
   "metadata": {
    "tags": []
   },
   "outputs": [],
   "source": [
    "import pandas as pd\n",
    "\n",
    "# Load the Excel file into a pandas DataFrame\n",
    "excel_file = \"C:/Users/pavan/Music/Avi-Audio Net/DATASET/bird_songs_metadata.5.xlsx\"\n",
    "df = pd.read_excel(excel_file)\n",
    "\n",
    "# Write the DataFrame to a CSV file\n",
    "csv_file = 'C:/Users/pavan/Music/Avi-Audio Net/DATASET/bird_songs_metadata5.csv'\n",
    "df.to_csv(csv_file, index=False)\n"
   ]
  },
  {
   "cell_type": "code",
   "execution_count": 113,
   "id": "5a011beb",
   "metadata": {
    "papermill": {
     "duration": 0.129304,
     "end_time": "2022-05-26T09:08:55.932964",
     "exception": false,
     "start_time": "2022-05-26T09:08:55.803660",
     "status": "completed"
    },
    "tags": []
   },
   "outputs": [
    {
     "data": {
      "text/html": [
       "<div>\n",
       "<style scoped>\n",
       "    .dataframe tbody tr th:only-of-type {\n",
       "        vertical-align: middle;\n",
       "    }\n",
       "\n",
       "    .dataframe tbody tr th {\n",
       "        vertical-align: top;\n",
       "    }\n",
       "\n",
       "    .dataframe thead th {\n",
       "        text-align: right;\n",
       "    }\n",
       "</style>\n",
       "<table border=\"1\" class=\"dataframe\">\n",
       "  <thead>\n",
       "    <tr style=\"text-align: right;\">\n",
       "      <th></th>\n",
       "      <th>id</th>\n",
       "      <th>genus</th>\n",
       "      <th>species</th>\n",
       "      <th>subspecies</th>\n",
       "      <th>name</th>\n",
       "      <th>recordist</th>\n",
       "      <th>country</th>\n",
       "      <th>location</th>\n",
       "      <th>latitude</th>\n",
       "      <th>longitude</th>\n",
       "      <th>altitude</th>\n",
       "      <th>sound_type</th>\n",
       "      <th>source_url</th>\n",
       "      <th>license</th>\n",
       "      <th>time</th>\n",
       "      <th>date</th>\n",
       "      <th>remarks</th>\n",
       "      <th>filename</th>\n",
       "    </tr>\n",
       "  </thead>\n",
       "  <tbody>\n",
       "    <tr>\n",
       "      <th>0</th>\n",
       "      <td>557838.0</td>\n",
       "      <td>Thryomanes</td>\n",
       "      <td>bewickii</td>\n",
       "      <td>NaN</td>\n",
       "      <td>Bewick's Wren</td>\n",
       "      <td>Whitney Neufeld-Kaiser</td>\n",
       "      <td>United States</td>\n",
       "      <td>Arlington, Snohomish County, Washington</td>\n",
       "      <td>48.0708</td>\n",
       "      <td>-122.1006</td>\n",
       "      <td>100</td>\n",
       "      <td>adult, sex uncertain, song</td>\n",
       "      <td>//www.xeno-canto.org/557838</td>\n",
       "      <td>//creativecommons.org/licenses/by-nc-sa/4.0/</td>\n",
       "      <td>11:51:00</td>\n",
       "      <td>2020-03-14 00:00:00</td>\n",
       "      <td>Recorded with Voice Record Pro on iPhone7, nor...</td>\n",
       "      <td>557838-0.wav</td>\n",
       "    </tr>\n",
       "    <tr>\n",
       "      <th>1</th>\n",
       "      <td>557838.0</td>\n",
       "      <td>Thryomanes</td>\n",
       "      <td>bewickii</td>\n",
       "      <td>NaN</td>\n",
       "      <td>Bewick's Wren</td>\n",
       "      <td>Whitney Neufeld-Kaiser</td>\n",
       "      <td>United States</td>\n",
       "      <td>Arlington, Snohomish County, Washington</td>\n",
       "      <td>48.0708</td>\n",
       "      <td>-122.1006</td>\n",
       "      <td>100</td>\n",
       "      <td>adult, sex uncertain, song</td>\n",
       "      <td>//www.xeno-canto.org/557838</td>\n",
       "      <td>//creativecommons.org/licenses/by-nc-sa/4.0/</td>\n",
       "      <td>11:51:00</td>\n",
       "      <td>2020-03-14 00:00:00</td>\n",
       "      <td>Recorded with Voice Record Pro on iPhone7, nor...</td>\n",
       "      <td>557838-1.wav</td>\n",
       "    </tr>\n",
       "    <tr>\n",
       "      <th>2</th>\n",
       "      <td>557838.0</td>\n",
       "      <td>Thryomanes</td>\n",
       "      <td>bewickii</td>\n",
       "      <td>NaN</td>\n",
       "      <td>Bewick's Wren</td>\n",
       "      <td>Whitney Neufeld-Kaiser</td>\n",
       "      <td>United States</td>\n",
       "      <td>Arlington, Snohomish County, Washington</td>\n",
       "      <td>48.0708</td>\n",
       "      <td>-122.1006</td>\n",
       "      <td>100</td>\n",
       "      <td>adult, sex uncertain, song</td>\n",
       "      <td>//www.xeno-canto.org/557838</td>\n",
       "      <td>//creativecommons.org/licenses/by-nc-sa/4.0/</td>\n",
       "      <td>11:51:00</td>\n",
       "      <td>2020-03-14 00:00:00</td>\n",
       "      <td>Recorded with Voice Record Pro on iPhone7, nor...</td>\n",
       "      <td>557838-4.wav</td>\n",
       "    </tr>\n",
       "    <tr>\n",
       "      <th>3</th>\n",
       "      <td>557838.0</td>\n",
       "      <td>Thryomanes</td>\n",
       "      <td>bewickii</td>\n",
       "      <td>NaN</td>\n",
       "      <td>Bewick's Wren</td>\n",
       "      <td>Whitney Neufeld-Kaiser</td>\n",
       "      <td>United States</td>\n",
       "      <td>Arlington, Snohomish County, Washington</td>\n",
       "      <td>48.0708</td>\n",
       "      <td>-122.1006</td>\n",
       "      <td>100</td>\n",
       "      <td>adult, sex uncertain, song</td>\n",
       "      <td>//www.xeno-canto.org/557838</td>\n",
       "      <td>//creativecommons.org/licenses/by-nc-sa/4.0/</td>\n",
       "      <td>11:51:00</td>\n",
       "      <td>2020-03-14 00:00:00</td>\n",
       "      <td>Recorded with Voice Record Pro on iPhone7, nor...</td>\n",
       "      <td>557838-5.wav</td>\n",
       "    </tr>\n",
       "    <tr>\n",
       "      <th>4</th>\n",
       "      <td>557838.0</td>\n",
       "      <td>Thryomanes</td>\n",
       "      <td>bewickii</td>\n",
       "      <td>NaN</td>\n",
       "      <td>Bewick's Wren</td>\n",
       "      <td>Whitney Neufeld-Kaiser</td>\n",
       "      <td>United States</td>\n",
       "      <td>Arlington, Snohomish County, Washington</td>\n",
       "      <td>48.0708</td>\n",
       "      <td>-122.1006</td>\n",
       "      <td>100</td>\n",
       "      <td>adult, sex uncertain, song</td>\n",
       "      <td>//www.xeno-canto.org/557838</td>\n",
       "      <td>//creativecommons.org/licenses/by-nc-sa/4.0/</td>\n",
       "      <td>11:51:00</td>\n",
       "      <td>2020-03-14 00:00:00</td>\n",
       "      <td>Recorded with Voice Record Pro on iPhone7, nor...</td>\n",
       "      <td>557838-6.wav</td>\n",
       "    </tr>\n",
       "  </tbody>\n",
       "</table>\n",
       "</div>"
      ],
      "text/plain": [
       "         id       genus   species subspecies           name  \\\n",
       "0  557838.0  Thryomanes  bewickii        NaN  Bewick's Wren   \n",
       "1  557838.0  Thryomanes  bewickii        NaN  Bewick's Wren   \n",
       "2  557838.0  Thryomanes  bewickii        NaN  Bewick's Wren   \n",
       "3  557838.0  Thryomanes  bewickii        NaN  Bewick's Wren   \n",
       "4  557838.0  Thryomanes  bewickii        NaN  Bewick's Wren   \n",
       "\n",
       "                recordist        country  \\\n",
       "0  Whitney Neufeld-Kaiser  United States   \n",
       "1  Whitney Neufeld-Kaiser  United States   \n",
       "2  Whitney Neufeld-Kaiser  United States   \n",
       "3  Whitney Neufeld-Kaiser  United States   \n",
       "4  Whitney Neufeld-Kaiser  United States   \n",
       "\n",
       "                                  location  latitude  longitude altitude  \\\n",
       "0  Arlington, Snohomish County, Washington   48.0708  -122.1006      100   \n",
       "1  Arlington, Snohomish County, Washington   48.0708  -122.1006      100   \n",
       "2  Arlington, Snohomish County, Washington   48.0708  -122.1006      100   \n",
       "3  Arlington, Snohomish County, Washington   48.0708  -122.1006      100   \n",
       "4  Arlington, Snohomish County, Washington   48.0708  -122.1006      100   \n",
       "\n",
       "                   sound_type                   source_url  \\\n",
       "0  adult, sex uncertain, song  //www.xeno-canto.org/557838   \n",
       "1  adult, sex uncertain, song  //www.xeno-canto.org/557838   \n",
       "2  adult, sex uncertain, song  //www.xeno-canto.org/557838   \n",
       "3  adult, sex uncertain, song  //www.xeno-canto.org/557838   \n",
       "4  adult, sex uncertain, song  //www.xeno-canto.org/557838   \n",
       "\n",
       "                                        license      time  \\\n",
       "0  //creativecommons.org/licenses/by-nc-sa/4.0/  11:51:00   \n",
       "1  //creativecommons.org/licenses/by-nc-sa/4.0/  11:51:00   \n",
       "2  //creativecommons.org/licenses/by-nc-sa/4.0/  11:51:00   \n",
       "3  //creativecommons.org/licenses/by-nc-sa/4.0/  11:51:00   \n",
       "4  //creativecommons.org/licenses/by-nc-sa/4.0/  11:51:00   \n",
       "\n",
       "                  date                                            remarks  \\\n",
       "0  2020-03-14 00:00:00  Recorded with Voice Record Pro on iPhone7, nor...   \n",
       "1  2020-03-14 00:00:00  Recorded with Voice Record Pro on iPhone7, nor...   \n",
       "2  2020-03-14 00:00:00  Recorded with Voice Record Pro on iPhone7, nor...   \n",
       "3  2020-03-14 00:00:00  Recorded with Voice Record Pro on iPhone7, nor...   \n",
       "4  2020-03-14 00:00:00  Recorded with Voice Record Pro on iPhone7, nor...   \n",
       "\n",
       "       filename  \n",
       "0  557838-0.wav  \n",
       "1  557838-1.wav  \n",
       "2  557838-4.wav  \n",
       "3  557838-5.wav  \n",
       "4  557838-6.wav  "
      ]
     },
     "execution_count": 113,
     "metadata": {},
     "output_type": "execute_result"
    }
   ],
   "source": [
    "\n",
    "\n",
    "audio_dataset_path='C:/Users/pavan/Music/Avi-Audio Net/DATASET/wavfiles'                    #change the path \n",
    "metadata = pd.read_csv('C:/Users/pavan/Music/Avi-Audio Net/DATASET/bird_songs_metadata5.csv')\n",
    "metadata.head()"
   ]
  },
  {
   "cell_type": "code",
   "execution_count": 115,
   "id": "a6ec567c",
   "metadata": {
    "papermill": {
     "duration": 0.040138,
     "end_time": "2022-05-26T09:08:55.987412",
     "exception": false,
     "start_time": "2022-05-26T09:08:55.947274",
     "status": "completed"
    },
    "tags": []
   },
   "outputs": [
    {
     "data": {
      "text/plain": [
       "name\n",
       "Eurasian Jay            1797\n",
       "Song Sparrow            1255\n",
       "Common Cuckoo           1213\n",
       "House Sparrow           1192\n",
       "Northern Mockingbird    1182\n",
       "European Goldfinch      1108\n",
       "Northern Cardinal       1074\n",
       "Eurasian Bluetit        1073\n",
       "American Robin          1017\n",
       "Bewick's Wren            893\n",
       "Name: count, dtype: int64"
      ]
     },
     "execution_count": 115,
     "metadata": {},
     "output_type": "execute_result"
    }
   ],
   "source": [
    "metadata['name'].value_counts()\n"
   ]
  },
  {
   "cell_type": "code",
   "execution_count": 117,
   "id": "68d73949",
   "metadata": {
    "papermill": {
     "duration": 0.031617,
     "end_time": "2022-05-26T09:08:56.039274",
     "exception": false,
     "start_time": "2022-05-26T09:08:56.007657",
     "status": "completed"
    },
    "tags": []
   },
   "outputs": [],
   "source": [
    "def features_extractor(file):\n",
    "    audio, sample_rate = librosa.load(file_name, res_type='kaiser_fast') \n",
    "    mfccs_features = librosa.feature.mfcc(y=audio, sr=sample_rate, n_mfcc=40)\n",
    "    mfccs_scaled_features = np.mean(mfccs_features.T,axis=0)\n",
    "    \n",
    "    return mfccs_scaled_features"
   ]
  },
  {
   "cell_type": "code",
   "execution_count": 119,
   "id": "31faa64e",
   "metadata": {
    "papermill": {
     "duration": 139.597066,
     "end_time": "2022-05-26T09:11:15.651138",
     "exception": false,
     "start_time": "2022-05-26T09:08:56.054072",
     "status": "completed"
    },
    "tags": []
   },
   "outputs": [
    {
     "name": "stderr",
     "output_type": "stream",
     "text": [
      "11804it [06:17, 31.28it/s]\n"
     ]
    }
   ],
   "source": [
    "import numpy as np\n",
    "from tqdm import tqdm\n",
    "### Now we iterate through every audio file and extract features \n",
    "### using Mel-Frequency Cepstral Coefficients\n",
    "extracted_features=[]\n",
    "for index_num,row in tqdm(metadata.iterrows()):\n",
    "    file_name = os.path.join(os.path.abspath(audio_dataset_path),str(row[\"filename\"]))\n",
    "    final_class_labels=row[\"name\"]\n",
    "    data=features_extractor(file_name)\n",
    "    extracted_features.append([data,final_class_labels])"
   ]
  },
  {
   "cell_type": "code",
   "execution_count": 121,
   "id": "79149822",
   "metadata": {
    "papermill": {
     "duration": 0.133365,
     "end_time": "2022-05-26T09:11:15.884900",
     "exception": false,
     "start_time": "2022-05-26T09:11:15.751535",
     "status": "completed"
    },
    "tags": []
   },
   "outputs": [
    {
     "data": {
      "text/html": [
       "<div>\n",
       "<style scoped>\n",
       "    .dataframe tbody tr th:only-of-type {\n",
       "        vertical-align: middle;\n",
       "    }\n",
       "\n",
       "    .dataframe tbody tr th {\n",
       "        vertical-align: top;\n",
       "    }\n",
       "\n",
       "    .dataframe thead th {\n",
       "        text-align: right;\n",
       "    }\n",
       "</style>\n",
       "<table border=\"1\" class=\"dataframe\">\n",
       "  <thead>\n",
       "    <tr style=\"text-align: right;\">\n",
       "      <th></th>\n",
       "      <th>feature</th>\n",
       "      <th>name</th>\n",
       "    </tr>\n",
       "  </thead>\n",
       "  <tbody>\n",
       "    <tr>\n",
       "      <th>0</th>\n",
       "      <td>[-132.85225, 81.1399, 17.018223, 54.974297, -1...</td>\n",
       "      <td>Bewick's Wren</td>\n",
       "    </tr>\n",
       "    <tr>\n",
       "      <th>1</th>\n",
       "      <td>[-147.74393, 99.42544, 20.885643, 44.11881, 1....</td>\n",
       "      <td>Bewick's Wren</td>\n",
       "    </tr>\n",
       "    <tr>\n",
       "      <th>2</th>\n",
       "      <td>[-92.42778, 84.10635, 17.362778, 53.86046, -8....</td>\n",
       "      <td>Bewick's Wren</td>\n",
       "    </tr>\n",
       "    <tr>\n",
       "      <th>3</th>\n",
       "      <td>[-93.07557, 81.17431, 16.225544, 52.08842, -8....</td>\n",
       "      <td>Bewick's Wren</td>\n",
       "    </tr>\n",
       "    <tr>\n",
       "      <th>4</th>\n",
       "      <td>[-107.95914, 92.416, 17.773256, 43.13245, -1.8...</td>\n",
       "      <td>Bewick's Wren</td>\n",
       "    </tr>\n",
       "  </tbody>\n",
       "</table>\n",
       "</div>"
      ],
      "text/plain": [
       "                                             feature           name\n",
       "0  [-132.85225, 81.1399, 17.018223, 54.974297, -1...  Bewick's Wren\n",
       "1  [-147.74393, 99.42544, 20.885643, 44.11881, 1....  Bewick's Wren\n",
       "2  [-92.42778, 84.10635, 17.362778, 53.86046, -8....  Bewick's Wren\n",
       "3  [-93.07557, 81.17431, 16.225544, 52.08842, -8....  Bewick's Wren\n",
       "4  [-107.95914, 92.416, 17.773256, 43.13245, -1.8...  Bewick's Wren"
      ]
     },
     "execution_count": 121,
     "metadata": {},
     "output_type": "execute_result"
    }
   ],
   "source": [
    "extracted_features_df=pd.DataFrame(extracted_features,columns=['feature','name'])\n",
    "extracted_features_df.head()\n",
    "# Storing the dataframe to pickle for further processing\n",
    "extracted_features_df.to_pickle(\"extracted_df.pkl\")\n",
    "extracted_features_df.head()"
   ]
  },
  {
   "cell_type": "code",
   "execution_count": 123,
   "id": "b5abe14a",
   "metadata": {
    "papermill": {
     "duration": 0.151036,
     "end_time": "2022-05-26T09:11:16.157609",
     "exception": false,
     "start_time": "2022-05-26T09:11:16.006573",
     "status": "completed"
    },
    "tags": []
   },
   "outputs": [],
   "source": [
    "final = pd.read_pickle(\"./extracted_df.pkl\")\n",
    "X = np.array(final[\"feature\"].tolist())\n",
    "y = np.array(final[\"name\"].tolist())"
   ]
  },
  {
   "cell_type": "code",
   "execution_count": 125,
   "id": "40fb578a",
   "metadata": {
    "papermill": {
     "duration": 7.635482,
     "end_time": "2022-05-26T09:11:23.868441",
     "exception": false,
     "start_time": "2022-05-26T09:11:16.232959",
     "status": "completed"
    },
    "tags": []
   },
   "outputs": [],
   "source": [
    "        import IPython.display as ipd\n",
    "        import librosa\n",
    "        import librosa.display\n",
    "        import pandas as pd\n",
    "        import os, time, warnings\n",
    "        import seaborn as sns\n",
    "        import numpy as np\n",
    "        from tqdm import tqdm\n",
    "        import matplotlib.pyplot as plt\n",
    "        from sklearn.model_selection import train_test_split\n",
    "        from sklearn.preprocessing import LabelEncoder\n",
    "        from tensorflow.keras.utils import to_categorical\n",
    "        from tensorflow.keras.models import Sequential\n",
    "        from tensorflow.keras.layers import (\n",
    "            Dense,\n",
    "            Conv1D,\n",
    "            MaxPooling1D,\n",
    "            BatchNormalization,\n",
    "            Dropout, \n",
    "            Flatten,\n",
    "            Conv2D,\n",
    "            MaxPool2D,\n",
    "        )"
   ]
  },
  {
   "cell_type": "code",
   "execution_count": 127,
   "id": "8ef0d2ea",
   "metadata": {
    "papermill": {
     "duration": 0.141638,
     "end_time": "2022-05-26T09:11:24.137129",
     "exception": false,
     "start_time": "2022-05-26T09:11:23.995491",
     "status": "completed"
    },
    "tags": []
   },
   "outputs": [],
   "source": [
    "le = LabelEncoder()\n",
    "\n",
    "# transform each category with it's respected label\n",
    "Y = to_categorical(le.fit_transform(y))\n"
   ]
  },
  {
   "cell_type": "code",
   "execution_count": 128,
   "id": "47a6f2a6",
   "metadata": {
    "papermill": {
     "duration": 0.141086,
     "end_time": "2022-05-26T09:11:24.442781",
     "exception": false,
     "start_time": "2022-05-26T09:11:24.301695",
     "status": "completed"
    },
    "tags": []
   },
   "outputs": [
    {
     "name": "stdout",
     "output_type": "stream",
     "text": [
      "Number of training samples =  10623\n",
      "Number of testing samples =  1181\n"
     ]
    }
   ],
   "source": [
    "X_train, X_test, y_train, y_test = train_test_split(\n",
    "    X, Y, test_size=0.1, random_state=42\n",
    ")\n",
    "\n",
    "# print the details\n",
    "print(\"Number of training samples = \", X_train.shape[0])\n",
    "print(\"Number of testing samples = \", X_test.shape[0])\n"
   ]
  },
  {
   "cell_type": "code",
   "execution_count": 131,
   "id": "dc6edc9a",
   "metadata": {
    "papermill": {
     "duration": 0.331911,
     "end_time": "2022-05-26T09:11:24.904529",
     "exception": false,
     "start_time": "2022-05-26T09:11:24.572618",
     "status": "completed"
    },
    "tags": []
   },
   "outputs": [
    {
     "name": "stderr",
     "output_type": "stream",
     "text": [
      "C:\\Users\\pavan\\anaconda3\\Lib\\site-packages\\keras\\src\\layers\\core\\dense.py:85: UserWarning: Do not pass an `input_shape`/`input_dim` argument to a layer. When using Sequential models, prefer using an `Input(shape)` object as the first layer in the model instead.\n",
      "  super().__init__(activity_regularizer=activity_regularizer, **kwargs)\n"
     ]
    },
    {
     "data": {
      "text/html": [
       "<pre style=\"white-space:pre;overflow-x:auto;line-height:normal;font-family:Menlo,'DejaVu Sans Mono',consolas,'Courier New',monospace\"><span style=\"font-weight: bold\">Model: \"sequential_4\"</span>\n",
       "</pre>\n"
      ],
      "text/plain": [
       "\u001b[1mModel: \"sequential_4\"\u001b[0m\n"
      ]
     },
     "metadata": {},
     "output_type": "display_data"
    },
    {
     "data": {
      "text/html": [
       "<pre style=\"white-space:pre;overflow-x:auto;line-height:normal;font-family:Menlo,'DejaVu Sans Mono',consolas,'Courier New',monospace\">┏━━━━━━━━━━━━━━━━━━━━━━━━━━━━━━━━━┳━━━━━━━━━━━━━━━━━━━━━━━━┳━━━━━━━━━━━━━━━┓\n",
       "┃<span style=\"font-weight: bold\"> Layer (type)                    </span>┃<span style=\"font-weight: bold\"> Output Shape           </span>┃<span style=\"font-weight: bold\">       Param # </span>┃\n",
       "┡━━━━━━━━━━━━━━━━━━━━━━━━━━━━━━━━━╇━━━━━━━━━━━━━━━━━━━━━━━━╇━━━━━━━━━━━━━━━┩\n",
       "│ dense_31 (<span style=\"color: #0087ff; text-decoration-color: #0087ff\">Dense</span>)                │ (<span style=\"color: #00d7ff; text-decoration-color: #00d7ff\">None</span>, <span style=\"color: #00af00; text-decoration-color: #00af00\">2000</span>)           │        <span style=\"color: #00af00; text-decoration-color: #00af00\">82,000</span> │\n",
       "├─────────────────────────────────┼────────────────────────┼───────────────┤\n",
       "│ dense_32 (<span style=\"color: #0087ff; text-decoration-color: #0087ff\">Dense</span>)                │ (<span style=\"color: #00d7ff; text-decoration-color: #00d7ff\">None</span>, <span style=\"color: #00af00; text-decoration-color: #00af00\">1000</span>)           │     <span style=\"color: #00af00; text-decoration-color: #00af00\">2,001,000</span> │\n",
       "├─────────────────────────────────┼────────────────────────┼───────────────┤\n",
       "│ dense_33 (<span style=\"color: #0087ff; text-decoration-color: #0087ff\">Dense</span>)                │ (<span style=\"color: #00d7ff; text-decoration-color: #00d7ff\">None</span>, <span style=\"color: #00af00; text-decoration-color: #00af00\">750</span>)            │       <span style=\"color: #00af00; text-decoration-color: #00af00\">750,750</span> │\n",
       "├─────────────────────────────────┼────────────────────────┼───────────────┤\n",
       "│ dense_34 (<span style=\"color: #0087ff; text-decoration-color: #0087ff\">Dense</span>)                │ (<span style=\"color: #00d7ff; text-decoration-color: #00d7ff\">None</span>, <span style=\"color: #00af00; text-decoration-color: #00af00\">500</span>)            │       <span style=\"color: #00af00; text-decoration-color: #00af00\">375,500</span> │\n",
       "├─────────────────────────────────┼────────────────────────┼───────────────┤\n",
       "│ dense_35 (<span style=\"color: #0087ff; text-decoration-color: #0087ff\">Dense</span>)                │ (<span style=\"color: #00d7ff; text-decoration-color: #00d7ff\">None</span>, <span style=\"color: #00af00; text-decoration-color: #00af00\">250</span>)            │       <span style=\"color: #00af00; text-decoration-color: #00af00\">125,250</span> │\n",
       "├─────────────────────────────────┼────────────────────────┼───────────────┤\n",
       "│ dense_36 (<span style=\"color: #0087ff; text-decoration-color: #0087ff\">Dense</span>)                │ (<span style=\"color: #00d7ff; text-decoration-color: #00d7ff\">None</span>, <span style=\"color: #00af00; text-decoration-color: #00af00\">100</span>)            │        <span style=\"color: #00af00; text-decoration-color: #00af00\">25,100</span> │\n",
       "├─────────────────────────────────┼────────────────────────┼───────────────┤\n",
       "│ dense_37 (<span style=\"color: #0087ff; text-decoration-color: #0087ff\">Dense</span>)                │ (<span style=\"color: #00d7ff; text-decoration-color: #00d7ff\">None</span>, <span style=\"color: #00af00; text-decoration-color: #00af00\">50</span>)             │         <span style=\"color: #00af00; text-decoration-color: #00af00\">5,050</span> │\n",
       "├─────────────────────────────────┼────────────────────────┼───────────────┤\n",
       "│ dense_38 (<span style=\"color: #0087ff; text-decoration-color: #0087ff\">Dense</span>)                │ (<span style=\"color: #00d7ff; text-decoration-color: #00d7ff\">None</span>, <span style=\"color: #00af00; text-decoration-color: #00af00\">10</span>)             │           <span style=\"color: #00af00; text-decoration-color: #00af00\">510</span> │\n",
       "└─────────────────────────────────┴────────────────────────┴───────────────┘\n",
       "</pre>\n"
      ],
      "text/plain": [
       "┏━━━━━━━━━━━━━━━━━━━━━━━━━━━━━━━━━┳━━━━━━━━━━━━━━━━━━━━━━━━┳━━━━━━━━━━━━━━━┓\n",
       "┃\u001b[1m \u001b[0m\u001b[1mLayer (type)                   \u001b[0m\u001b[1m \u001b[0m┃\u001b[1m \u001b[0m\u001b[1mOutput Shape          \u001b[0m\u001b[1m \u001b[0m┃\u001b[1m \u001b[0m\u001b[1m      Param #\u001b[0m\u001b[1m \u001b[0m┃\n",
       "┡━━━━━━━━━━━━━━━━━━━━━━━━━━━━━━━━━╇━━━━━━━━━━━━━━━━━━━━━━━━╇━━━━━━━━━━━━━━━┩\n",
       "│ dense_31 (\u001b[38;5;33mDense\u001b[0m)                │ (\u001b[38;5;45mNone\u001b[0m, \u001b[38;5;34m2000\u001b[0m)           │        \u001b[38;5;34m82,000\u001b[0m │\n",
       "├─────────────────────────────────┼────────────────────────┼───────────────┤\n",
       "│ dense_32 (\u001b[38;5;33mDense\u001b[0m)                │ (\u001b[38;5;45mNone\u001b[0m, \u001b[38;5;34m1000\u001b[0m)           │     \u001b[38;5;34m2,001,000\u001b[0m │\n",
       "├─────────────────────────────────┼────────────────────────┼───────────────┤\n",
       "│ dense_33 (\u001b[38;5;33mDense\u001b[0m)                │ (\u001b[38;5;45mNone\u001b[0m, \u001b[38;5;34m750\u001b[0m)            │       \u001b[38;5;34m750,750\u001b[0m │\n",
       "├─────────────────────────────────┼────────────────────────┼───────────────┤\n",
       "│ dense_34 (\u001b[38;5;33mDense\u001b[0m)                │ (\u001b[38;5;45mNone\u001b[0m, \u001b[38;5;34m500\u001b[0m)            │       \u001b[38;5;34m375,500\u001b[0m │\n",
       "├─────────────────────────────────┼────────────────────────┼───────────────┤\n",
       "│ dense_35 (\u001b[38;5;33mDense\u001b[0m)                │ (\u001b[38;5;45mNone\u001b[0m, \u001b[38;5;34m250\u001b[0m)            │       \u001b[38;5;34m125,250\u001b[0m │\n",
       "├─────────────────────────────────┼────────────────────────┼───────────────┤\n",
       "│ dense_36 (\u001b[38;5;33mDense\u001b[0m)                │ (\u001b[38;5;45mNone\u001b[0m, \u001b[38;5;34m100\u001b[0m)            │        \u001b[38;5;34m25,100\u001b[0m │\n",
       "├─────────────────────────────────┼────────────────────────┼───────────────┤\n",
       "│ dense_37 (\u001b[38;5;33mDense\u001b[0m)                │ (\u001b[38;5;45mNone\u001b[0m, \u001b[38;5;34m50\u001b[0m)             │         \u001b[38;5;34m5,050\u001b[0m │\n",
       "├─────────────────────────────────┼────────────────────────┼───────────────┤\n",
       "│ dense_38 (\u001b[38;5;33mDense\u001b[0m)                │ (\u001b[38;5;45mNone\u001b[0m, \u001b[38;5;34m10\u001b[0m)             │           \u001b[38;5;34m510\u001b[0m │\n",
       "└─────────────────────────────────┴────────────────────────┴───────────────┘\n"
      ]
     },
     "metadata": {},
     "output_type": "display_data"
    },
    {
     "data": {
      "text/html": [
       "<pre style=\"white-space:pre;overflow-x:auto;line-height:normal;font-family:Menlo,'DejaVu Sans Mono',consolas,'Courier New',monospace\"><span style=\"font-weight: bold\"> Total params: </span><span style=\"color: #00af00; text-decoration-color: #00af00\">3,365,160</span> (12.84 MB)\n",
       "</pre>\n"
      ],
      "text/plain": [
       "\u001b[1m Total params: \u001b[0m\u001b[38;5;34m3,365,160\u001b[0m (12.84 MB)\n"
      ]
     },
     "metadata": {},
     "output_type": "display_data"
    },
    {
     "data": {
      "text/html": [
       "<pre style=\"white-space:pre;overflow-x:auto;line-height:normal;font-family:Menlo,'DejaVu Sans Mono',consolas,'Courier New',monospace\"><span style=\"font-weight: bold\"> Trainable params: </span><span style=\"color: #00af00; text-decoration-color: #00af00\">3,365,160</span> (12.84 MB)\n",
       "</pre>\n"
      ],
      "text/plain": [
       "\u001b[1m Trainable params: \u001b[0m\u001b[38;5;34m3,365,160\u001b[0m (12.84 MB)\n"
      ]
     },
     "metadata": {},
     "output_type": "display_data"
    },
    {
     "data": {
      "text/html": [
       "<pre style=\"white-space:pre;overflow-x:auto;line-height:normal;font-family:Menlo,'DejaVu Sans Mono',consolas,'Courier New',monospace\"><span style=\"font-weight: bold\"> Non-trainable params: </span><span style=\"color: #00af00; text-decoration-color: #00af00\">0</span> (0.00 B)\n",
       "</pre>\n"
      ],
      "text/plain": [
       "\u001b[1m Non-trainable params: \u001b[0m\u001b[38;5;34m0\u001b[0m (0.00 B)\n"
      ]
     },
     "metadata": {},
     "output_type": "display_data"
    }
   ],
   "source": [
    "\n",
    "num_labels = Y.shape[1]\n",
    "ANN_Model = Sequential()\n",
    "ANN_Model.add(Dense(2000, activation=\"relu\", input_shape=(40,)))\n",
    "ANN_Model.add(Dense(1000, activation=\"relu\"))\n",
    "ANN_Model.add(Dense(750, activation=\"relu\"))\n",
    "ANN_Model.add(Dense(500, activation=\"relu\"))\n",
    "ANN_Model.add(Dense(250, activation=\"relu\"))\n",
    "ANN_Model.add(Dense(100, activation=\"relu\"))\n",
    "ANN_Model.add(Dense(50, activation=\"relu\"))\n",
    "ANN_Model.add(Dense(num_labels, activation=\"softmax\"))\n",
    "ANN_Model.summary()"
   ]
  },
  {
   "cell_type": "code",
   "execution_count": 132,
   "id": "4768f6c2",
   "metadata": {
    "papermill": {
     "duration": 0.112704,
     "end_time": "2022-05-26T09:11:25.111071",
     "exception": false,
     "start_time": "2022-05-26T09:11:24.998367",
     "status": "completed"
    },
    "tags": []
   },
   "outputs": [],
   "source": [
    "ANN_Model.compile(loss='categorical_crossentropy',metrics=['accuracy'],optimizer='adam')"
   ]
  },
  {
   "cell_type": "code",
   "execution_count": 135,
   "id": "f3e01ae2",
   "metadata": {
    "papermill": {
     "duration": 455.959328,
     "end_time": "2022-05-26T09:19:01.162060",
     "exception": false,
     "start_time": "2022-05-26T09:11:25.202732",
     "status": "completed"
    },
    "tags": []
   },
   "outputs": [
    {
     "name": "stdout",
     "output_type": "stream",
     "text": [
      "Epoch 1/50\n",
      "\u001b[1m332/332\u001b[0m \u001b[32m━━━━━━━━━━━━━━━━━━━━\u001b[0m\u001b[37m\u001b[0m \u001b[1m12s\u001b[0m 27ms/step - accuracy: 0.2533 - loss: 2.9055 - val_accuracy: 0.5123 - val_loss: 1.2237\n",
      "Epoch 2/50\n",
      "\u001b[1m332/332\u001b[0m \u001b[32m━━━━━━━━━━━━━━━━━━━━\u001b[0m\u001b[37m\u001b[0m \u001b[1m9s\u001b[0m 26ms/step - accuracy: 0.5314 - loss: 1.1758 - val_accuracy: 0.5944 - val_loss: 1.0217\n",
      "Epoch 3/50\n",
      "\u001b[1m332/332\u001b[0m \u001b[32m━━━━━━━━━━━━━━━━━━━━\u001b[0m\u001b[37m\u001b[0m \u001b[1m9s\u001b[0m 26ms/step - accuracy: 0.6066 - loss: 1.0214 - val_accuracy: 0.6139 - val_loss: 0.9843\n",
      "Epoch 4/50\n",
      "\u001b[1m332/332\u001b[0m \u001b[32m━━━━━━━━━━━━━━━━━━━━\u001b[0m\u001b[37m\u001b[0m \u001b[1m9s\u001b[0m 26ms/step - accuracy: 0.6538 - loss: 0.9273 - val_accuracy: 0.6943 - val_loss: 0.8605\n",
      "Epoch 5/50\n",
      "\u001b[1m332/332\u001b[0m \u001b[32m━━━━━━━━━━━━━━━━━━━━\u001b[0m\u001b[37m\u001b[0m \u001b[1m9s\u001b[0m 27ms/step - accuracy: 0.6964 - loss: 0.8189 - val_accuracy: 0.6943 - val_loss: 0.8711\n",
      "Epoch 6/50\n",
      "\u001b[1m332/332\u001b[0m \u001b[32m━━━━━━━━━━━━━━━━━━━━\u001b[0m\u001b[37m\u001b[0m \u001b[1m9s\u001b[0m 26ms/step - accuracy: 0.7034 - loss: 0.7848 - val_accuracy: 0.7206 - val_loss: 0.8181\n",
      "Epoch 7/50\n",
      "\u001b[1m332/332\u001b[0m \u001b[32m━━━━━━━━━━━━━━━━━━━━\u001b[0m\u001b[37m\u001b[0m \u001b[1m9s\u001b[0m 27ms/step - accuracy: 0.7234 - loss: 0.7440 - val_accuracy: 0.7197 - val_loss: 0.8096\n",
      "Epoch 8/50\n",
      "\u001b[1m332/332\u001b[0m \u001b[32m━━━━━━━━━━━━━━━━━━━━\u001b[0m\u001b[37m\u001b[0m \u001b[1m9s\u001b[0m 26ms/step - accuracy: 0.7383 - loss: 0.7035 - val_accuracy: 0.7333 - val_loss: 0.7499\n",
      "Epoch 9/50\n",
      "\u001b[1m332/332\u001b[0m \u001b[32m━━━━━━━━━━━━━━━━━━━━\u001b[0m\u001b[37m\u001b[0m \u001b[1m9s\u001b[0m 27ms/step - accuracy: 0.7547 - loss: 0.6584 - val_accuracy: 0.7045 - val_loss: 0.8655\n",
      "Epoch 10/50\n",
      "\u001b[1m332/332\u001b[0m \u001b[32m━━━━━━━━━━━━━━━━━━━━\u001b[0m\u001b[37m\u001b[0m \u001b[1m9s\u001b[0m 26ms/step - accuracy: 0.7644 - loss: 0.6393 - val_accuracy: 0.7358 - val_loss: 0.7140\n",
      "Epoch 11/50\n",
      "\u001b[1m332/332\u001b[0m \u001b[32m━━━━━━━━━━━━━━━━━━━━\u001b[0m\u001b[37m\u001b[0m \u001b[1m9s\u001b[0m 27ms/step - accuracy: 0.7691 - loss: 0.6144 - val_accuracy: 0.7273 - val_loss: 0.8006\n",
      "Epoch 12/50\n",
      "\u001b[1m332/332\u001b[0m \u001b[32m━━━━━━━━━━━━━━━━━━━━\u001b[0m\u001b[37m\u001b[0m \u001b[1m9s\u001b[0m 27ms/step - accuracy: 0.7883 - loss: 0.5858 - val_accuracy: 0.7273 - val_loss: 0.8034\n",
      "Epoch 13/50\n",
      "\u001b[1m332/332\u001b[0m \u001b[32m━━━━━━━━━━━━━━━━━━━━\u001b[0m\u001b[37m\u001b[0m \u001b[1m9s\u001b[0m 27ms/step - accuracy: 0.7758 - loss: 0.6159 - val_accuracy: 0.7434 - val_loss: 0.7247\n",
      "Epoch 14/50\n",
      "\u001b[1m332/332\u001b[0m \u001b[32m━━━━━━━━━━━━━━━━━━━━\u001b[0m\u001b[37m\u001b[0m \u001b[1m9s\u001b[0m 27ms/step - accuracy: 0.8064 - loss: 0.5515 - val_accuracy: 0.7324 - val_loss: 0.7830\n",
      "Epoch 15/50\n",
      "\u001b[1m332/332\u001b[0m \u001b[32m━━━━━━━━━━━━━━━━━━━━\u001b[0m\u001b[37m\u001b[0m \u001b[1m9s\u001b[0m 27ms/step - accuracy: 0.7953 - loss: 0.5374 - val_accuracy: 0.7451 - val_loss: 0.7306\n",
      "Epoch 16/50\n",
      "\u001b[1m332/332\u001b[0m \u001b[32m━━━━━━━━━━━━━━━━━━━━\u001b[0m\u001b[37m\u001b[0m \u001b[1m9s\u001b[0m 27ms/step - accuracy: 0.8121 - loss: 0.5110 - val_accuracy: 0.7570 - val_loss: 0.7191\n",
      "Epoch 17/50\n",
      "\u001b[1m332/332\u001b[0m \u001b[32m━━━━━━━━━━━━━━━━━━━━\u001b[0m\u001b[37m\u001b[0m \u001b[1m9s\u001b[0m 28ms/step - accuracy: 0.8240 - loss: 0.4844 - val_accuracy: 0.7273 - val_loss: 0.8030\n",
      "Epoch 18/50\n",
      "\u001b[1m332/332\u001b[0m \u001b[32m━━━━━━━━━━━━━━━━━━━━\u001b[0m\u001b[37m\u001b[0m \u001b[1m10s\u001b[0m 31ms/step - accuracy: 0.8186 - loss: 0.5018 - val_accuracy: 0.7595 - val_loss: 0.8562\n",
      "Epoch 19/50\n",
      "\u001b[1m332/332\u001b[0m \u001b[32m━━━━━━━━━━━━━━━━━━━━\u001b[0m\u001b[37m\u001b[0m \u001b[1m8s\u001b[0m 25ms/step - accuracy: 0.8219 - loss: 0.5136 - val_accuracy: 0.7544 - val_loss: 0.7249\n",
      "Epoch 20/50\n",
      "\u001b[1m332/332\u001b[0m \u001b[32m━━━━━━━━━━━━━━━━━━━━\u001b[0m\u001b[37m\u001b[0m \u001b[1m9s\u001b[0m 26ms/step - accuracy: 0.8333 - loss: 0.4459 - val_accuracy: 0.7494 - val_loss: 0.8290\n",
      "Epoch 21/50\n",
      "\u001b[1m332/332\u001b[0m \u001b[32m━━━━━━━━━━━━━━━━━━━━\u001b[0m\u001b[37m\u001b[0m \u001b[1m9s\u001b[0m 27ms/step - accuracy: 0.8379 - loss: 0.4512 - val_accuracy: 0.7409 - val_loss: 0.8525\n",
      "Epoch 22/50\n",
      "\u001b[1m332/332\u001b[0m \u001b[32m━━━━━━━━━━━━━━━━━━━━\u001b[0m\u001b[37m\u001b[0m \u001b[1m9s\u001b[0m 27ms/step - accuracy: 0.8520 - loss: 0.4136 - val_accuracy: 0.7638 - val_loss: 0.7720\n",
      "Epoch 23/50\n",
      "\u001b[1m332/332\u001b[0m \u001b[32m━━━━━━━━━━━━━━━━━━━━\u001b[0m\u001b[37m\u001b[0m \u001b[1m9s\u001b[0m 26ms/step - accuracy: 0.8580 - loss: 0.3898 - val_accuracy: 0.7494 - val_loss: 0.8982\n",
      "Epoch 24/50\n",
      "\u001b[1m332/332\u001b[0m \u001b[32m━━━━━━━━━━━━━━━━━━━━\u001b[0m\u001b[37m\u001b[0m \u001b[1m9s\u001b[0m 27ms/step - accuracy: 0.8506 - loss: 0.4187 - val_accuracy: 0.7587 - val_loss: 0.8016\n",
      "Epoch 25/50\n",
      "\u001b[1m332/332\u001b[0m \u001b[32m━━━━━━━━━━━━━━━━━━━━\u001b[0m\u001b[37m\u001b[0m \u001b[1m9s\u001b[0m 27ms/step - accuracy: 0.8515 - loss: 0.4006 - val_accuracy: 0.7688 - val_loss: 0.8342\n",
      "Epoch 26/50\n",
      "\u001b[1m332/332\u001b[0m \u001b[32m━━━━━━━━━━━━━━━━━━━━\u001b[0m\u001b[37m\u001b[0m \u001b[1m9s\u001b[0m 27ms/step - accuracy: 0.8734 - loss: 0.3509 - val_accuracy: 0.7688 - val_loss: 0.9623\n",
      "Epoch 27/50\n",
      "\u001b[1m332/332\u001b[0m \u001b[32m━━━━━━━━━━━━━━━━━━━━\u001b[0m\u001b[37m\u001b[0m \u001b[1m9s\u001b[0m 27ms/step - accuracy: 0.8807 - loss: 0.3513 - val_accuracy: 0.7502 - val_loss: 0.9484\n",
      "Epoch 28/50\n",
      "\u001b[1m332/332\u001b[0m \u001b[32m━━━━━━━━━━━━━━━━━━━━\u001b[0m\u001b[37m\u001b[0m \u001b[1m9s\u001b[0m 27ms/step - accuracy: 0.8793 - loss: 0.3379 - val_accuracy: 0.7621 - val_loss: 0.9008\n",
      "Epoch 29/50\n",
      "\u001b[1m332/332\u001b[0m \u001b[32m━━━━━━━━━━━━━━━━━━━━\u001b[0m\u001b[37m\u001b[0m \u001b[1m9s\u001b[0m 27ms/step - accuracy: 0.8906 - loss: 0.3032 - val_accuracy: 0.7748 - val_loss: 0.9137\n",
      "Epoch 30/50\n",
      "\u001b[1m332/332\u001b[0m \u001b[32m━━━━━━━━━━━━━━━━━━━━\u001b[0m\u001b[37m\u001b[0m \u001b[1m9s\u001b[0m 27ms/step - accuracy: 0.8865 - loss: 0.3012 - val_accuracy: 0.7519 - val_loss: 0.8655\n",
      "Epoch 31/50\n",
      "\u001b[1m332/332\u001b[0m \u001b[32m━━━━━━━━━━━━━━━━━━━━\u001b[0m\u001b[37m\u001b[0m \u001b[1m9s\u001b[0m 27ms/step - accuracy: 0.8947 - loss: 0.2885 - val_accuracy: 0.7621 - val_loss: 0.9541\n",
      "Epoch 32/50\n",
      "\u001b[1m332/332\u001b[0m \u001b[32m━━━━━━━━━━━━━━━━━━━━\u001b[0m\u001b[37m\u001b[0m \u001b[1m9s\u001b[0m 27ms/step - accuracy: 0.8972 - loss: 0.2933 - val_accuracy: 0.7528 - val_loss: 0.9739\n",
      "Epoch 33/50\n",
      "\u001b[1m332/332\u001b[0m \u001b[32m━━━━━━━━━━━━━━━━━━━━\u001b[0m\u001b[37m\u001b[0m \u001b[1m9s\u001b[0m 27ms/step - accuracy: 0.9053 - loss: 0.2671 - val_accuracy: 0.7544 - val_loss: 0.9649\n",
      "Epoch 34/50\n",
      "\u001b[1m332/332\u001b[0m \u001b[32m━━━━━━━━━━━━━━━━━━━━\u001b[0m\u001b[37m\u001b[0m \u001b[1m9s\u001b[0m 27ms/step - accuracy: 0.9059 - loss: 0.2628 - val_accuracy: 0.7621 - val_loss: 0.9458\n",
      "Epoch 35/50\n",
      "\u001b[1m332/332\u001b[0m \u001b[32m━━━━━━━━━━━━━━━━━━━━\u001b[0m\u001b[37m\u001b[0m \u001b[1m9s\u001b[0m 27ms/step - accuracy: 0.9075 - loss: 0.2615 - val_accuracy: 0.7697 - val_loss: 1.0259\n",
      "Epoch 36/50\n",
      "\u001b[1m332/332\u001b[0m \u001b[32m━━━━━━━━━━━━━━━━━━━━\u001b[0m\u001b[37m\u001b[0m \u001b[1m9s\u001b[0m 27ms/step - accuracy: 0.9192 - loss: 0.2159 - val_accuracy: 0.7578 - val_loss: 1.0917\n",
      "Epoch 37/50\n",
      "\u001b[1m332/332\u001b[0m \u001b[32m━━━━━━━━━━━━━━━━━━━━\u001b[0m\u001b[37m\u001b[0m \u001b[1m9s\u001b[0m 27ms/step - accuracy: 0.9145 - loss: 0.2371 - val_accuracy: 0.7485 - val_loss: 1.2105\n",
      "Epoch 38/50\n",
      "\u001b[1m332/332\u001b[0m \u001b[32m━━━━━━━━━━━━━━━━━━━━\u001b[0m\u001b[37m\u001b[0m \u001b[1m9s\u001b[0m 27ms/step - accuracy: 0.9104 - loss: 0.2701 - val_accuracy: 0.7595 - val_loss: 1.2485\n",
      "Epoch 39/50\n",
      "\u001b[1m332/332\u001b[0m \u001b[32m━━━━━━━━━━━━━━━━━━━━\u001b[0m\u001b[37m\u001b[0m \u001b[1m9s\u001b[0m 27ms/step - accuracy: 0.9295 - loss: 0.1980 - val_accuracy: 0.7621 - val_loss: 1.1981\n",
      "Epoch 40/50\n",
      "\u001b[1m332/332\u001b[0m \u001b[32m━━━━━━━━━━━━━━━━━━━━\u001b[0m\u001b[37m\u001b[0m \u001b[1m9s\u001b[0m 28ms/step - accuracy: 0.9337 - loss: 0.1920 - val_accuracy: 0.7477 - val_loss: 1.0443\n",
      "Epoch 41/50\n",
      "\u001b[1m332/332\u001b[0m \u001b[32m━━━━━━━━━━━━━━━━━━━━\u001b[0m\u001b[37m\u001b[0m \u001b[1m10s\u001b[0m 29ms/step - accuracy: 0.9278 - loss: 0.2123 - val_accuracy: 0.7612 - val_loss: 1.2829\n",
      "Epoch 42/50\n",
      "\u001b[1m332/332\u001b[0m \u001b[32m━━━━━━━━━━━━━━━━━━━━\u001b[0m\u001b[37m\u001b[0m \u001b[1m9s\u001b[0m 28ms/step - accuracy: 0.9429 - loss: 0.1668 - val_accuracy: 0.7341 - val_loss: 1.2505\n",
      "Epoch 43/50\n",
      "\u001b[1m332/332\u001b[0m \u001b[32m━━━━━━━━━━━━━━━━━━━━\u001b[0m\u001b[37m\u001b[0m \u001b[1m9s\u001b[0m 28ms/step - accuracy: 0.9296 - loss: 0.2249 - val_accuracy: 0.7595 - val_loss: 1.0432\n",
      "Epoch 44/50\n",
      "\u001b[1m332/332\u001b[0m \u001b[32m━━━━━━━━━━━━━━━━━━━━\u001b[0m\u001b[37m\u001b[0m \u001b[1m9s\u001b[0m 27ms/step - accuracy: 0.9421 - loss: 0.1721 - val_accuracy: 0.7638 - val_loss: 1.1799\n",
      "Epoch 45/50\n",
      "\u001b[1m332/332\u001b[0m \u001b[32m━━━━━━━━━━━━━━━━━━━━\u001b[0m\u001b[37m\u001b[0m \u001b[1m9s\u001b[0m 27ms/step - accuracy: 0.9445 - loss: 0.1668 - val_accuracy: 0.7612 - val_loss: 1.2182\n",
      "Epoch 46/50\n",
      "\u001b[1m332/332\u001b[0m \u001b[32m━━━━━━━━━━━━━━━━━━━━\u001b[0m\u001b[37m\u001b[0m \u001b[1m9s\u001b[0m 27ms/step - accuracy: 0.9493 - loss: 0.1618 - val_accuracy: 0.7570 - val_loss: 1.2732\n",
      "Epoch 47/50\n",
      "\u001b[1m332/332\u001b[0m \u001b[32m━━━━━━━━━━━━━━━━━━━━\u001b[0m\u001b[37m\u001b[0m \u001b[1m9s\u001b[0m 27ms/step - accuracy: 0.9466 - loss: 0.1534 - val_accuracy: 0.7561 - val_loss: 1.2156\n",
      "Epoch 48/50\n",
      "\u001b[1m332/332\u001b[0m \u001b[32m━━━━━━━━━━━━━━━━━━━━\u001b[0m\u001b[37m\u001b[0m \u001b[1m9s\u001b[0m 27ms/step - accuracy: 0.9518 - loss: 0.1453 - val_accuracy: 0.7697 - val_loss: 1.3362\n",
      "Epoch 49/50\n",
      "\u001b[1m332/332\u001b[0m \u001b[32m━━━━━━━━━━━━━━━━━━━━\u001b[0m\u001b[37m\u001b[0m \u001b[1m9s\u001b[0m 27ms/step - accuracy: 0.9587 - loss: 0.1202 - val_accuracy: 0.7612 - val_loss: 1.2157\n",
      "Epoch 50/50\n",
      "\u001b[1m332/332\u001b[0m \u001b[32m━━━━━━━━━━━━━━━━━━━━\u001b[0m\u001b[37m\u001b[0m \u001b[1m9s\u001b[0m 27ms/step - accuracy: 0.9507 - loss: 0.1535 - val_accuracy: 0.7434 - val_loss: 1.3662\n"
     ]
    },
    {
     "name": "stderr",
     "output_type": "stream",
     "text": [
      "WARNING:absl:You are saving your model as an HDF5 file via `model.save()` or `keras.saving.save_model(model)`. This file format is considered legacy. We recommend using instead the native Keras format, e.g. `model.save('my_model.keras')` or `keras.saving.save_model(model, 'my_model.keras')`. \n"
     ]
    },
    {
     "name": "stdout",
     "output_type": "stream",
     "text": [
      "ANN Model Saved\n"
     ]
    }
   ],
   "source": [
    "num_epochs = 50\n",
    "num_batch_size = 32\n",
    "\n",
    "t0 = time.time()\n",
    "\n",
    "history = ANN_Model.fit(\n",
    "    X_train,\n",
    "    y_train,\n",
    "    batch_size=num_batch_size,\n",
    "    epochs=num_epochs,\n",
    "    validation_data=(X_test, y_test),\n",
    ")\n",
    "\n",
    "ANN_Model.save(\"Model1.h5\")\n",
    "print(\"ANN Model Saved\")\n"
   ]
  },
  {
   "cell_type": "code",
   "execution_count": 104,
   "id": "6e56a044",
   "metadata": {
    "papermill": {
     "duration": 1.1967,
     "end_time": "2022-05-26T09:19:03.276967",
     "exception": false,
     "start_time": "2022-05-26T09:19:02.080267",
     "status": "completed"
    },
    "tags": []
   },
   "outputs": [
    {
     "data": {
      "image/png": "[encoded data removed]",
      "text/plain": [
       "<Figure size 800x800 with 2 Axes>"
      ]
     },
     "metadata": {},
     "output_type": "display_data"
    }
   ],
   "source": [
    " acc = [0.] + history.history['accuracy']\n",
    "val_acc = [0.] + history.history['val_accuracy']\n",
    "\n",
    "loss = history.history['loss']\n",
    "val_loss = history.history['val_loss']\n",
    "\n",
    "plt.figure(figsize=(8, 8))\n",
    "plt.subplot(2, 1, 1)\n",
    "plt.plot(acc, label='Training Accuracy')\n",
    "plt.plot(val_acc, label='Validation Accuracy')\n",
    "plt.legend(loc='lower right')\n",
    "plt.ylabel('Accuracy')\n",
    "plt.title('Training and Validation Accuracy')\n",
    "\n",
    "plt.subplot(2, 1, 2)\n",
    "plt.plot(loss, label='Training Loss')\n",
    "plt.plot(val_loss, label='Validation Loss')\n",
    "plt.legend(loc='upper right')\n",
    "plt.ylabel('Cross Entropy')\n",
    "plt.title('Training and Validation Loss')\n",
    "plt.xlabel('epoch')\n",
    "plt.show()"
   ]
  },
  {
   "cell_type": "code",
   "execution_count": null,
   "id": "5ab097e0",
   "metadata": {
    "papermill": {
     "duration": 0.557929,
     "end_time": "2022-05-26T09:19:04.335461",
     "exception": false,
     "start_time": "2022-05-26T09:19:03.777532",
     "status": "completed"
    },
    "tags": []
   },
   "outputs": [],
   "source": []
  }
 ],
 "metadata": {
  "kernelspec": {
   "display_name": "Python 3 (ipykernel)",
   "language": "python",
   "name": "python3"
  },
  "language_info": {
   "codemirror_mode": {
    "name": "ipython",
    "version": 3
   },
   "file_extension": ".py",
   "mimetype": "text/x-python",
   "name": "python",
   "nbconvert_exporter": "python",
   "pygments_lexer": "ipython3",
   "version": "3.11.7"
  },
  "papermill": {
   "default_parameters": {},
   "duration": 637.476826,
   "end_time": "2022-05-26T09:19:08.383940",
   "environment_variables": {},
   "exception": null,
   "input_path": "__notebook__.ipynb",
   "output_path": "__notebook__.ipynb",
   "parameters": {},
   "start_time": "2022-05-26T09:08:30.907114",
   "version": "2.3.4"
  }
 },
 "nbformat": 4,
 "nbformat_minor": 5
}
